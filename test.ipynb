{
 "cells": [
  {
   "cell_type": "code",
   "execution_count": 1,
   "metadata": {},
   "outputs": [],
   "source": [
    "from scrollguard.utils import get_config, get_mongo_client\n",
    "from scrollguard import utils, etl\n",
    "import numpy as np\n",
    "from io import StringIO\n",
    "import json\n",
    "import requests\n",
    "import ssl\n",
    "import urllib3\n",
    "import xmltodict\n",
    "import pandas as pd\n",
    "from Levenshtein import ratio\n",
    "\n",
    "pd.set_option(\"display.max_column\", None)"
   ]
  },
  {
   "cell_type": "code",
   "execution_count": 5,
   "metadata": {},
   "outputs": [],
   "source": [
    "config = get_config().find_one({\"source\": \"SOURCES\"}, {\"_id\":0, \"value\":1})[\"value\"][\"UN_INDIVIDUAL\"]\n",
    "raw_data = etl.extract_xml(config)"
   ]
  },
  {
   "cell_type": "code",
   "execution_count": null,
   "metadata": {},
   "outputs": [],
   "source": []
  },
  {
   "cell_type": "code",
   "execution_count": 6,
   "metadata": {},
   "outputs": [],
   "source": [
    "transformer = etl.Transformer(\"UN_INDIVIDUAL\", raw_data)"
   ]
  }
 ],
 "metadata": {
  "kernelspec": {
   "display_name": "env",
   "language": "python",
   "name": "python3"
  },
  "language_info": {
   "codemirror_mode": {
    "name": "ipython",
    "version": 3
   },
   "file_extension": ".py",
   "mimetype": "text/x-python",
   "name": "python",
   "nbconvert_exporter": "python",
   "pygments_lexer": "ipython3",
   "version": "3.10.12"
  }
 },
 "nbformat": 4,
 "nbformat_minor": 2
}
